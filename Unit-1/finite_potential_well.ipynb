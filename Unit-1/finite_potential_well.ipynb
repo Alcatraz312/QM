{
 "cells": [
  {
   "cell_type": "code",
   "execution_count": 1,
   "metadata": {},
   "outputs": [],
   "source": [
    "import numpy as np\n",
    "import scipy.optimize as opt\n",
    "import matplotlib.pyplot as plt "
   ]
  },
  {
   "cell_type": "code",
   "execution_count": 2,
   "metadata": {},
   "outputs": [],
   "source": [
    "def potential_well(a, U):\n",
    "\n",
    "    def transcendental_equation(k):\n",
    "        return np.tan(k*a) + (np.sqrt(k**2 - U))/k\n",
    "    \n",
    "    roots = opt.fsolve(transcendental_equation, x0= np.linspace(0,np.sqrt(U),100))\n",
    "\n",
    "    eigen_values = roots ** 2\n",
    "\n",
    "    return eigen_values\n"
   ]
  },
  {
   "cell_type": "code",
   "execution_count": 3,
   "metadata": {},
   "outputs": [],
   "source": [
    "def normalize_wavefunction(psi, x):\n",
    "\n",
    "    n_factor = np.sqrt(np.trapz(np.abs(psi**2), x))\n",
    "\n",
    "    return psi/n_factor"
   ]
  },
  {
   "cell_type": "code",
   "execution_count": 4,
   "metadata": {},
   "outputs": [],
   "source": [
    "def plot_wavefunction(U, a, energies):\n",
    "\n",
    "    x = np.linspace(-a, a , 1000)\n",
    "\n",
    "    for eigen_value in energies:\n",
    "\n",
    "        k = np.sqrt(eigen_value)\n",
    "        alpha = np.sqrt(eigen_value - U)\n",
    "\n",
    "        psi_inside = np.cos(k * x)\n",
    "        psi_outside_left = np.exp(- alpha * (x + a))\n",
    "        psi_outside_right = np.exp(- alpha * (x - a))\n",
    "\n",
    "        psi = np.piecewise(x, [x < -a, -a <= x <= a, x > a], funclist= [psi_outside_left, psi_inside, psi_outside_right])\n",
    "\n",
    "        normalize_psi = normalize_wavefunction(psi, x)\n",
    "\n",
    "        plt.plot(x, normalize_psi)\n",
    "\n",
    "\n",
    "    plt.xlabel(\"x\")\n",
    "    plt.ylabel(\"ψ(x)\")\n",
    "    plt.title(f\"Finite potential well U = {U}, a = {a}\")\n",
    "    plt.legend()\n",
    "    plt.show()\n"
   ]
  },
  {
   "cell_type": "code",
   "execution_count": 5,
   "metadata": {},
   "outputs": [
    {
     "name": "stderr",
     "output_type": "stream",
     "text": [
      "C:\\Users\\ratho\\AppData\\Local\\Temp\\ipykernel_5232\\3974957855.py:4: RuntimeWarning: invalid value encountered in sqrt\n",
      "  return np.tan(k*a) + (np.sqrt(k**2 - U))/k\n",
      "C:\\Users\\ratho\\AppData\\Local\\Temp\\ipykernel_5232\\3974957855.py:6: RuntimeWarning: The iteration is not making good progress, as measured by the \n",
      "  improvement from the last ten iterations.\n",
      "  roots = opt.fsolve(transcendental_equation, x0= np.linspace(0,np.sqrt(U),100))\n",
      "C:\\Users\\ratho\\AppData\\Local\\Temp\\ipykernel_5232\\1677015277.py:8: RuntimeWarning: invalid value encountered in sqrt\n",
      "  alpha = np.sqrt(eigen_value - U)\n"
     ]
    },
    {
     "ename": "ValueError",
     "evalue": "The truth value of an array with more than one element is ambiguous. Use a.any() or a.all()",
     "output_type": "error",
     "traceback": [
      "\u001b[1;31m---------------------------------------------------------------------------\u001b[0m",
      "\u001b[1;31mValueError\u001b[0m                                Traceback (most recent call last)",
      "Cell \u001b[1;32mIn[5], line 7\u001b[0m\n\u001b[0;32m      5\u001b[0m \u001b[38;5;28;01mfor\u001b[39;00m a \u001b[38;5;129;01min\u001b[39;00m a_values:\n\u001b[0;32m      6\u001b[0m     eigen_values \u001b[38;5;241m=\u001b[39m potential_well(U,a)\n\u001b[1;32m----> 7\u001b[0m     \u001b[43mplot_wavefunction\u001b[49m\u001b[43m(\u001b[49m\u001b[43mU\u001b[49m\u001b[43m,\u001b[49m\u001b[43m \u001b[49m\u001b[43ma\u001b[49m\u001b[43m,\u001b[49m\u001b[43m \u001b[49m\u001b[43meigen_values\u001b[49m\u001b[43m)\u001b[49m\n",
      "Cell \u001b[1;32mIn[4], line 14\u001b[0m, in \u001b[0;36mplot_wavefunction\u001b[1;34m(U, a, energies)\u001b[0m\n\u001b[0;32m     11\u001b[0m psi_outside_left \u001b[38;5;241m=\u001b[39m np\u001b[38;5;241m.\u001b[39mexp(\u001b[38;5;241m-\u001b[39m alpha \u001b[38;5;241m*\u001b[39m (x \u001b[38;5;241m+\u001b[39m a))\n\u001b[0;32m     12\u001b[0m psi_outside_right \u001b[38;5;241m=\u001b[39m np\u001b[38;5;241m.\u001b[39mexp(\u001b[38;5;241m-\u001b[39m alpha \u001b[38;5;241m*\u001b[39m (x \u001b[38;5;241m-\u001b[39m a))\n\u001b[1;32m---> 14\u001b[0m psi \u001b[38;5;241m=\u001b[39m np\u001b[38;5;241m.\u001b[39mpiecewise(x, [x \u001b[38;5;241m<\u001b[39m \u001b[38;5;241m-\u001b[39ma, \u001b[38;5;241m-\u001b[39ma \u001b[38;5;241m<\u001b[39m\u001b[38;5;241m=\u001b[39m x \u001b[38;5;241m<\u001b[39m\u001b[38;5;241m=\u001b[39m a, x \u001b[38;5;241m>\u001b[39m a], funclist\u001b[38;5;241m=\u001b[39m [psi_outside_left, psi_inside, psi_outside_right])\n\u001b[0;32m     16\u001b[0m normalize_psi \u001b[38;5;241m=\u001b[39m normalize_wavefunction(psi, x)\n\u001b[0;32m     18\u001b[0m plt\u001b[38;5;241m.\u001b[39mplot(x, normalize_psi)\n",
      "\u001b[1;31mValueError\u001b[0m: The truth value of an array with more than one element is ambiguous. Use a.any() or a.all()"
     ]
    }
   ],
   "source": [
    "U_values = [5, 10, 15]\n",
    "a_values = [1, 2, 3]\n",
    "\n",
    "for U in U_values:\n",
    "    for a in a_values:\n",
    "        eigen_values = potential_well(U,a)\n",
    "        plot_wavefunction(U, a, eigen_values)\n",
    "        "
   ]
  }
 ],
 "metadata": {
  "kernelspec": {
   "display_name": "Python 3",
   "language": "python",
   "name": "python3"
  },
  "language_info": {
   "codemirror_mode": {
    "name": "ipython",
    "version": 3
   },
   "file_extension": ".py",
   "mimetype": "text/x-python",
   "name": "python",
   "nbconvert_exporter": "python",
   "pygments_lexer": "ipython3",
   "version": "3.12.1"
  }
 },
 "nbformat": 4,
 "nbformat_minor": 2
}
