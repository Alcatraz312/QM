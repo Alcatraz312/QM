{
 "cells": [
  {
   "cell_type": "code",
   "execution_count": 1,
   "metadata": {},
   "outputs": [],
   "source": [
    "import numpy as np\n",
    "import scipy.optimize as opt\n",
    "import matplotlib.pyplot as plt "
   ]
  },
  {
   "cell_type": "code",
   "execution_count": 2,
   "metadata": {},
   "outputs": [],
   "source": [
    "def potential_well(a, U):\n",
    "\n",
    "    def transcendental_equation(k):\n",
    "        return np.tan(k*a) + (np.sqrt(k**2 - U))/k\n",
    "    \n",
    "    roots = opt.fsolve(transcendental_equation, x0= np.linspace(0,np.sqrt(U),100))\n",
    "\n",
    "    eigen_values = roots ** 2\n",
    "\n",
    "    return eigen_values\n"
   ]
  },
  {
   "cell_type": "code",
   "execution_count": null,
   "metadata": {},
   "outputs": [],
   "source": [
    "def normalize_wavefunction(psi, x):\n",
    "\n",
    "    n_factor = np.sqrt(np.trapz(np.abs(psi**2), x))\n",
    "\n",
    "    return psi/n_factor"
   ]
  },
  {
   "cell_type": "code",
   "execution_count": null,
   "metadata": {},
   "outputs": [],
   "source": []
  }
 ],
 "metadata": {
  "kernelspec": {
   "display_name": "Python 3",
   "language": "python",
   "name": "python3"
  },
  "language_info": {
   "codemirror_mode": {
    "name": "ipython",
    "version": 3
   },
   "file_extension": ".py",
   "mimetype": "text/x-python",
   "name": "python",
   "nbconvert_exporter": "python",
   "pygments_lexer": "ipython3",
   "version": "3.12.1"
  }
 },
 "nbformat": 4,
 "nbformat_minor": 2
}
